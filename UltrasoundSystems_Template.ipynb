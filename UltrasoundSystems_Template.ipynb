{
 "cells": [
  {
   "cell_type": "markdown",
   "metadata": {},
   "source": [
    "# Ultrasound Systems Use Template"
   ]
  },
  {
   "cell_type": "markdown",
   "metadata": {},
   "source": [
    "Written by Jon Furniss on November 9th, 2018 <br>\n",
    "Last Revised by Jon Furniss on November 12th, 2018"
   ]
  },
  {
   "cell_type": "markdown",
   "metadata": {},
   "source": [
    "## Instructions\n",
    "Fill out the requested information in each of the generated boxes. After filling out the information click into the next box and press Shift+Enter. You do not ever have to change any of the code. After pressing shift+enter, you can minimize the box by hovering to the left and pressing the blue bar (and if necessary reveal it again the same way)."
   ]
  },
  {
   "cell_type": "raw",
   "metadata": {},
   "source": []
  },
  {
   "cell_type": "code",
   "execution_count": 1,
   "metadata": {},
   "outputs": [],
   "source": [
    "from __future__ import print_function\n",
    "from ipywidgets import interact, interactive, fixed, interact_manual\n",
    "import ipywidgets as widgets\n",
    "import pandas as pd\n",
    "import matplotlib\n",
    "import matplotlib.patches as mpatches\n",
    "import matplotlib.pyplot as plt\n",
    "from IPython.display import display\n",
    "from datetime import date\n",
    "%matplotlib widget"
   ]
  },
  {
   "cell_type": "code",
   "execution_count": null,
   "metadata": {},
   "outputs": [],
   "source": []
  },
  {
   "cell_type": "code",
   "execution_count": 2,
   "metadata": {},
   "outputs": [],
   "source": [
    "# Functions that make the notebook work\n",
    "def calcintsimple(pow):\n",
    "    intensity = float(pow)/(3.14159*0.3**2)\n",
    "    return intensity"
   ]
  },
  {
   "cell_type": "markdown",
   "metadata": {},
   "source": [
    "## Enter user and system information."
   ]
  },
  {
   "cell_type": "code",
   "execution_count": 6,
   "metadata": {},
   "outputs": [
    {
     "data": {
      "application/vnd.jupyter.widget-view+json": {
       "model_id": "c1b102998f3f4c45b72367030a3e52c8",
       "version_major": 2,
       "version_minor": 0
      },
      "text/plain": [
       "VBox(children=(HBox(children=(Text(value='Names:', disabled=True, placeholder=''), Text(value='Date:', disable…"
      ]
     },
     "metadata": {},
     "output_type": "display_data"
    }
   ],
   "source": [
    "initinfolbls = [widgets.Text(value='Names:',placeholder='',description='',disabled=True), \n",
    "                widgets.Text(value='Date:',placeholder='',description='',disabled=True),\n",
    "                widgets.Text(value='Ultrasound System:',placeholder='',description='',disabled=True),\n",
    "                widgets.Text(value='Study Type:',placeholder='',description='',disabled=True)]\n",
    "initinfo = [widgets.Text(\n",
    "    value='',\n",
    "    placeholder='Enter Name',\n",
    "    description='Operator:',\n",
    "    disabled=False\n",
    "),\n",
    "\n",
    "widgets.Text(\n",
    "    value=str(date.today()),\n",
    "    placeholder='Date of Experiment',\n",
    "    description='',\n",
    "    disabled=False\n",
    "),\n",
    "widgets.Dropdown(\n",
    "    options=['APRes', 'APTx', 'TPO', 'TIPs'],\n",
    "    value='APRes',\n",
    "    description='',\n",
    "    disabled=False,\n",
    "),\n",
    "widgets.Dropdown(\n",
    "    options=['In Vivo', 'In Vitro', 'Phantom'],\n",
    "    value='In Vivo',\n",
    "    description='',\n",
    "    disabled=False,\n",
    ")]\n",
    "initlblsbox = widgets.HBox(initinfolbls)\n",
    "witness = [widgets.Text(value='',placeholder='Enter Name',description='Witness:',disabled=False)]\n",
    "initinfobox = widgets.HBox(initinfo)\n",
    "witnessbox = widgets.HBox(witness)\n",
    "widgets.VBox([initlblsbox,initinfobox, witnessbox])"
   ]
  },
  {
   "cell_type": "markdown",
   "metadata": {},
   "source": [
    "## Enter experiment parameters"
   ]
  },
  {
   "cell_type": "code",
   "execution_count": 26,
   "metadata": {},
   "outputs": [
    {
     "data": {
      "application/vnd.jupyter.widget-view+json": {
       "model_id": "be22452062d5475abf062c493e184e6a",
       "version_major": 2,
       "version_minor": 0
      },
      "text/plain": [
       "VBox(children=(HBox(children=(Text(value='Number of groups', disabled=True, placeholder=''), Text(value='No of…"
      ]
     },
     "metadata": {},
     "output_type": "display_data"
    }
   ],
   "source": [
    "if initinfo[2].value == 'TIPs':\n",
    "    expparamslbl = [widgets.Text(value='Number of groups',placeholder='',description='',disabled=True),\n",
    "                    widgets.Text(value='No of samples/gp',placeholder='',description='',disabled=True), \n",
    "                    widgets.Text(value='US Applicator Used:',placeholder='',description='',disabled=True)]\n",
    "    expparams = [widgets.BoundedIntText(value=4,min=0,max=10,step=1,description='',disabled=False),\n",
    "                 widgets.BoundedIntText(value=2,min=0,max=10,step=1,description='',disabled=False), \n",
    "                 widgets.Text(value='1MHz',placeholder='US Applicator Used',description='',disabled=True)]\n",
    "else:\n",
    "    expparamslbl = [widgets.Text(value='Number of groups',placeholder='',description='',disabled=True),\n",
    "                    widgets.Text(value='No of samples/gp',placeholder='',description='',disabled=True), \n",
    "                    widgets.Text(value='US Applicator Used:',placeholder='',description='',disabled=True)]\n",
    "    expparams = [widgets.BoundedIntText(value=4,min=0,max=10,step=1,description='',disabled=False),\n",
    "                 widgets.BoundedIntText(value=2,min=0,max=10,step=1,description='',disabled=False), \n",
    "                 widgets.Dropdown(options=['Dual (1.1MHz and 0.25MHz)', '1.1MHz', '0.25MHz'],value='Dual (1.1MHz and 0.25MHz)',\n",
    "                        description='',disabled=False)]\n",
    "    \n",
    "widgets.VBox([widgets.HBox(expparamslbl),widgets.HBox(expparams)])"
   ]
  },
  {
   "cell_type": "markdown",
   "metadata": {},
   "source": [
    "## Additional Experiment Parameters\n",
    "Enter additional treatments (such as radiation or drugs) or experimental parameters each group is subject to:"
   ]
  },
  {
   "cell_type": "code",
   "execution_count": 19,
   "metadata": {},
   "outputs": [
    {
     "data": {
      "application/vnd.jupyter.widget-view+json": {
       "model_id": "f2198fe01f314b7180f1aead6b121b34",
       "version_major": 2,
       "version_minor": 0
      },
      "text/plain": [
       "HBox(children=(VBox(children=(Text(value='Group', disabled=True, placeholder=''), Text(value='1', disabled=Tru…"
      ]
     },
     "metadata": {},
     "output_type": "display_data"
    }
   ],
   "source": [
    "addparams1 = [widgets.Text(value='Additional Treatment Parameter',placeholder='',description='',disabled=True)]\n",
    "addparams2 = [widgets.Text(value='Additional Treatment Parameter',placeholder='',description='',disabled=True)]\n",
    "for i in range(int(expparams[0].value)):\n",
    "    addparams1.append(widgets.Text(value='', placeholder='Enter additional parameter',description='',disabled=False))\n",
    "    addparams2.append(widgets.Text(value='', placeholder='Enter additional parameter',description='',disabled=False))\n",
    "addparamsbox = widgets.HBox([widgets.VBox(groupscol), widgets.VBox(addparams1), widgets.VBox(addparams2)])\n",
    "display(addparamsbox)"
   ]
  },
  {
   "cell_type": "markdown",
   "metadata": {},
   "source": [
    "## Endpoints and Outputs\n",
    "Enter the endpoints and outputs of the experiment, as well as any other initial experimental notes:"
   ]
  },
  {
   "cell_type": "raw",
   "metadata": {},
   "source": []
  },
  {
   "cell_type": "markdown",
   "metadata": {},
   "source": [
    "## Common Inputs and Equipment Information\n",
    "At this point, I would like to have it generate a table of acceptable/common inputs based off of the ultrasound system that is selected, but this might be a bit beyond my reach at the moment. It could also link to the <a href =\"https://docs.google.com/document/d/1GyLhT35eM_oXDeZm2YVui60jgOyknXjwOLXkUuvLlXs/edit?usp=sharing\"> APRes SOP</a> (or other SOP depending on the system selected).\n",
    "\n",
    "    \n",
    "|Transducer    | Lower Limit | Upper Limit |Low on Time| High on Time| Low Duty| High Duty|\n",
    "|--------------|-------------|-------------|-----------|-------------|---------|-----------|\n",
    "|1.1 MHz (H213)|AP-TPO -15W  |AP-TPO -75W  |                                                |\n",
    "|-3dB waist: 6mm|AP-T&C - 10W |AP-T&C -55W |   1s       |   10s       |    20%  | 100%     |\n",
    "|--------------|-------------|-------------|-----------|-------------|---------|-----------|\n",
    "|0.25 MHz (H117)|AP-TPO -15W  |AP-TPO -75W  |                                                |\n",
    "|-3dB waist: 6mm|AP-T&C - 10W |AP-T&C -58W |   1s       |   10s       |    20%  | 100%     |"
   ]
  },
  {
   "cell_type": "markdown",
   "metadata": {},
   "source": [
    "## Treatment Parameters\n",
    "Enter the remaining treatment parameters, (for non-treated groups, enter all numerical values as 0, and leave movement as stationary)."
   ]
  },
  {
   "cell_type": "code",
   "execution_count": 25,
   "metadata": {},
   "outputs": [
    {
     "data": {
      "application/vnd.jupyter.widget-view+json": {
       "model_id": "7ce85ff5b9e84c5ab748a14db086b0a1",
       "version_major": 2,
       "version_minor": 0
      },
      "text/plain": [
       "HBox(children=(VBox(children=(Text(value='Group', disabled=True, placeholder=''), Text(value='1', disabled=Tru…"
      ]
     },
     "metadata": {},
     "output_type": "display_data"
    }
   ],
   "source": [
    "if initinfo[2].value == 'TIPs':\n",
    "    treatmentparamstitles = [widgets.Text(value='Placeholder for TIPs table',placeholder='Movement',description='',disabled=True)]\n",
    "    paramsboxes = widgets.HBox(treatmentparamstitles)\n",
    "else:\n",
    "    if expparams[2].value == 'Dual (1.1MHz and 0.25MHz)':\n",
    "        groupscol = [widgets.Text(value='Group',placeholder='',description='',disabled=True)]\n",
    "        t1powcol = [widgets.Text(value='0.25MHz Input Power (W)',placeholder='',description='',disabled=True)]\n",
    "        t2powcol = [widgets.Text(value='1.1MHz Input Power (W)',placeholder='',description='',disabled=True)]\n",
    "        dwellcol = [widgets.Text(value='Treatment Time (s)',placeholder='',description='',disabled=True)]\n",
    "        dutyoncol = [widgets.Text(value='Duty Time On  (ms)',placeholder='',description='',disabled=True)]\n",
    "        dutyoffcol = [widgets.Text(value='Duty Time Off (ms)',placeholder='',description='',disabled=True)]\n",
    "        movementcol = [widgets.Text(value='Movement',placeholder='',description='',disabled=True)]\n",
    "        \n",
    "        for i in range(int(expparams[0].value)):\n",
    "            groupscol.append(widgets.Text(value=str(i+1),placeholder='',description='',disabled=True))\n",
    "            t1powcol.append(widgets.BoundedIntText(value=0,min=0,max=75,step=1,description='',disabled=False))                \n",
    "            t2powcol.append(widgets.BoundedIntText(value=0,min=0,max=75,step=1,description='',disabled=False))                  \n",
    "            dwellcol.append(widgets.BoundedIntText(value=0,min=0,max=30,step=1,description='',disabled=False))\n",
    "            dutyoncol.append(widgets.BoundedIntText(value=10,min=0,max=100,step=1,description='',disabled=False))\n",
    "            dutyoffcol.append(widgets.BoundedIntText(value=0,min=0,max=100,step=1,description='',disabled=False))\n",
    "            movementcol.append(widgets.Dropdown(options=['Stationary (Single Shot)', 'Raster Grid', 'Hexagon'],value='Stationary (Single Shot)',\n",
    "            description='',disabled=False))\n",
    "\n",
    "        paramsboxes = widgets.HBox([widgets.VBox(groupscol),widgets.VBox(t1powcol),widgets.VBox(t2powcol),\n",
    "                      widgets.VBox(dwellcol),widgets.VBox(dutyoncol),widgets.VBox(dutyoffcol), widgets.VBox(movementcol)])\n",
    "        \n",
    "    elif expparams[2].value == '1.1MHz':\n",
    "        groupscol = [widgets.Text(value='Group',placeholder='',description='',disabled=True)]\n",
    "        t1powcol = [widgets.Text(value='1.1MHz Input Power (W)',placeholder='',description='',disabled=True)]\n",
    "        dwellcol = [widgets.Text(value='Treatment Time (s)',placeholder='',description='',disabled=True)]\n",
    "        dutyoncol = [widgets.Text(value='Duty Time On (ms)',placeholder='',description='',disabled=True)]\n",
    "        dutyoffcol = [widgets.Text(value='Duty Time Off (ms)',placeholder='',description='',disabled=True)]\n",
    "        movementcol = [widgets.Text(value='Movement',placeholder='',description='',disabled=True)]\n",
    "        \n",
    "        for i in range(int(expparams[0].value)):\n",
    "            groupscol.append(widgets.Text(value=str(i+1),placeholder='',description='',disabled=True))\n",
    "            t1powcol.append(widgets.BoundedIntText(value=0,min=0,max=75,step=1,description='',disabled=False))                                   \n",
    "            dwellcol.append(widgets.BoundedIntText(value=0,min=0,max=30,step=1,description='',disabled=False))\n",
    "            dutyoncol.append(widgets.BoundedIntText(value=10,min=0,max=100,step=1,description='',disabled=False))\n",
    "            dutyoffcol.append(widgets.BoundedIntText(value=0,min=0,max=100,step=1,description='',disabled=False))\n",
    "            movementcol.append(widgets.Dropdown(options=['Stationary (Single Shot)', 'Raster Grid', 'Hexagon'],value='Stationary (Single Shot)',\n",
    "            description='',disabled=False))\n",
    "                               \n",
    "        paramsboxes = widgets.HBox([widgets.VBox(groupscol),widgets.VBox(t1powcol),\n",
    "                      widgets.VBox(dwellcol),widgets.VBox(dutyoncol),widgets.VBox(dutyoffcol), widgets.VBox(movementcol)])\n",
    "        \n",
    "    elif expparams[2].value == '0.25MHz':\n",
    "        groupscol = [widgets.Text(value='Group',placeholder='',description='',disabled=True)]\n",
    "        t1powcol = [widgets.Text(value='0.25MHz Input Power (W)',placeholder='',description='',disabled=True)]\n",
    "        dwellcol = [widgets.Text(value='Treatment Time (s)',placeholder='',description='',disabled=True)]\n",
    "        dutyoncol = [widgets.Text(value='Duty Time On (ms)',placeholder='',description='',disabled=True)]\n",
    "        dutyoffcol = [widgets.Text(value='Duty Time Off (ms)',placeholder='',description='',disabled=True)]\n",
    "        movementcol = [widgets.Text(value='Movement',placeholder='',description='',disabled=True)]\n",
    "        \n",
    "        for i in range(int(expparams[0].value)):\n",
    "            groupscol.append(widgets.Text(value=str(i+1),placeholder='',description='',disabled=True))\n",
    "            t1powcol.append(widgets.BoundedIntText(value=0,min=0,max=75,step=1,description='',disabled=False))                                   \n",
    "            dwellcol.append(widgets.BoundedIntText(value=0,min=0,max=30,step=1,description='',disabled=False))\n",
    "            dutyoncol.append(widgets.BoundedIntText(value=10,min=0,max=100,step=1,description='',disabled=False))\n",
    "            dutyoffcol.append(widgets.BoundedIntText(value=0,min=0,max=100,step=1,description='',disabled=False))\n",
    "            movementcol.append(widgets.Dropdown(options=['Stationary (Single Shot)', 'Raster Grid', 'Hexagon'],value='Stationary (Single Shot)',\n",
    "            description='',disabled=False))\n",
    "                               \n",
    "        paramsboxes = widgets.HBox([widgets.VBox(groupscol),widgets.VBox(t1powcol),\n",
    "                      widgets.VBox(dwellcol),widgets.VBox(dutyoncol),widgets.VBox(dutyoffcol), widgets.VBox(movementcol)])\n",
    "display(paramsboxes)"
   ]
  },
  {
   "cell_type": "markdown",
   "metadata": {},
   "source": [
    "## Movement Parameters\n",
    "Enter movement parameters, if necessary."
   ]
  },
  {
   "cell_type": "code",
   "execution_count": 27,
   "metadata": {},
   "outputs": [
    {
     "data": {
      "application/vnd.jupyter.widget-view+json": {
       "model_id": "686b3699de3946e8a890f9811244c9e3",
       "version_major": 2,
       "version_minor": 0
      },
      "text/plain": [
       "HBox(children=(VBox(children=(Text(value='Group', disabled=True, placeholder=''), Text(value='1', disabled=Tru…"
      ]
     },
     "metadata": {},
     "output_type": "display_data"
    }
   ],
   "source": [
    "if expparams[2].value == 'Dual (1.1MHz and 0.25MHz)':\n",
    "    stepsizcol = [widgets.Text(value='Step Size (mm)',placeholder='',description='',disabled=True)]\n",
    "    numxcol = [widgets.Text(value='X Grid Points',placeholder='',description='',disabled=True)]\n",
    "    numycol = [widgets.Text(value='Y Grid Points',placeholder='',description='',disabled=True)]\n",
    "    for i in range(int(expparams[0].value)):\n",
    "        if movementcol[i+1].value == 'Stationary (Single Shot)':\n",
    "            stepsizcol.append(widgets.Text(value='N/A',placeholder='',description='',disabled=True))\n",
    "            numxcol.append(widgets.Text(value='N/A',placeholder='',description='',disabled=True))\n",
    "            numycol.append(widgets.Text(value='N/A',placeholder='',description='',disabled=True))\n",
    "        else:\n",
    "            stepsizcol.append(widgets.BoundedFloatText(value=3,min=0,max=10,step=0.1,description='',disabled=False))\n",
    "            if movementcol[i+1].value == 'Raster Grid':\n",
    "                numxcol.append(widgets.BoundedIntText(value=4,min=1,max=10,step=1,description='',disabled=False))\n",
    "                numycol.append(widgets.BoundedIntText(value=4,min=1,max=10,step=1,description='',disabled=False))\n",
    "            else:\n",
    "                numxcol.append(widgets.Text(value='N/A',placeholder='',description='',disabled=True))\n",
    "                numycol.append(widgets.Text(value='N/A',placeholder='',description='',disabled=True))\n",
    "    movebox = widgets.HBox([widgets.VBox(groupscol),widgets.VBox(stepsizcol),\n",
    "                                 widgets.VBox(numxcol),widgets.VBox(numycol)])\n",
    "    \n",
    "elif expparams[2].value == '1.1MHz':\n",
    "    for i in range(int(expparams[0].value)): \n",
    "        if movementcol[i+1].value == 'Stationary (Single Shot)':\n",
    "            stepsizcol.append(widgets.Text(value='N/A',placeholder='',description='',disabled=True))\n",
    "            numxcol.append(widgets.Text(value='N/A',placeholder='',description='',disabled=True))\n",
    "            numycol.append(widgets.Text(value='N/A',placeholder='',description='',disabled=True))\n",
    "        else:\n",
    "            stepsizcol.append(widgets.BoundedFloatText(value=3,min=0,max=10,step=0.1,description='',disabled=False))\n",
    "            if movementcol[i+1].value == 'Raster Grid':\n",
    "                numxcol.append(widgets.BoundedIntText(value=4,min=1,max=10,step=1,description='',disabled=False))\n",
    "                numycol.append(widgets.BoundedIntText(value=4,min=1,max=10,step=1,description='',disabled=False))\n",
    "            else:\n",
    "                numxcol.append(widgets.Text(value='N/A',placeholder='',description='',disabled=True))\n",
    "                numycol.append(widgets.Text(value='N/A',placeholder='',description='',disabled=True))\n",
    "    movebox = widgets.HBox(widgets.VBox(groupscol),widgets.VBox(stepsizcol),\n",
    "                                 widgets.VBox(numxcol),widgets.VBox(numycol))\n",
    "    \n",
    "elif expparams[2].value == '0.25MHz':\n",
    "    for i in range(int(expparams[0].value)):\n",
    "        if movementcol[i+1].value == 'Stationary (Single Shot)':\n",
    "            stepsizcol.append(widgets.Text(value='N/A',placeholder='',description='',disabled=True))\n",
    "            numxcol.append(widgets.Text(value='N/A',placeholder='',description='',disabled=True))\n",
    "            numycol.append(widgets.Text(value='N/A',placeholder='',description='',disabled=True))\n",
    "        else:\n",
    "            stepsizcol.append(widgets.BoundedFloatText(value=3,min=0,max=10,step=0.1,description='',disabled=False))\n",
    "            if movementcol[i+1].value == 'Raster Grid':\n",
    "                numxcol.append(widgets.Text(value='',placeholder='Enter number of points',description='',disabled=False))\n",
    "                numycol.append(widgets.Text(value='',placeholder='Enter number of points',description='',disabled=False))\n",
    "            else:\n",
    "                numxcol.append(widgets.Text(value='N/A',placeholder='',description='',disabled=True))\n",
    "                numycol.append(widgets.Text(value='N/A',placeholder='',description='',disabled=True))\n",
    "    movebox = widgets.HBox(widgets.VBox(groupscol),widgets.VBox(stepsizcol),\n",
    "                                 widgets.VBox(numxcol),widgets.VBox(numycol))\n",
    "display(movebox)"
   ]
  },
  {
   "cell_type": "markdown",
   "metadata": {},
   "source": [
    "## Power and Energy Output"
   ]
  },
  {
   "cell_type": "code",
   "execution_count": 24,
   "metadata": {},
   "outputs": [
    {
     "data": {
      "application/vnd.jupyter.widget-view+json": {
       "model_id": "cb58f1e8b7a543eea14b7ffcf0e17856",
       "version_major": 2,
       "version_minor": 0
      },
      "text/plain": [
       "HBox(children=(VBox(children=(Text(value='Group', disabled=True, placeholder=''), Text(value='1', disabled=Tru…"
      ]
     },
     "metadata": {},
     "output_type": "display_data"
    }
   ],
   "source": [
    "if expparams[2].value == 'Dual (1.1MHz and 0.25MHz)':\n",
    "    t1intcol = [widgets.Text(value='0.25MHz Intensity (W/cm^2)',placeholder='',description='',disabled=True)]\n",
    "    t2intcol = [widgets.Text(value='1.1MHz Intensity (W/cm^2)',placeholder='',description='',disabled=True)]\n",
    "    t1enrgycol = [widgets.Text(value='0.25MHz Energy Per Point (J/cm^2)',placeholder='',description='',disabled=True)]\n",
    "    t2enrgycol = [widgets.Text(value='1.1MHz Energy Per Point (J/cm^2)',placeholder='',description='',disabled=True)]\n",
    "    totalenrgycol = [widgets.Text(value='Total Energy Deposited (J/cm^2)',placeholder='',description='',disabled=True)]\n",
    "    for i in range(int(expparams[0].value)):\n",
    "        t1int = calcintsimple(t1powcol[i+1].value)\n",
    "        t2int = calcintsimple(t2powcol[i+1].value)\n",
    "        t1enpp = t1int*float(dwellcol[i+1].value)\n",
    "        t2enpp = t2int*float(dwellcol[i+1].value)\n",
    "        duty = float(dutyoncol[i+1].value)/(float(dutyoncol[i+1].value)+float(dutyoffcol[i+1].value))\n",
    "        t1intcol.append(widgets.Text(value=str(round(t1int*duty,3)),placeholder='',description='',disabled=True))\n",
    "        t2intcol.append(widgets.Text(value=str(round(t2int*duty,3)),placeholder='',description='',disabled=True))\n",
    "        t1enrgycol.append(widgets.Text(value=str(round(t1enpp*duty,3)),placeholder='',description='',disabled=True))\n",
    "        t2enrgycol.append(widgets.Text(value=str(round(t2enpp*duty,3)),placeholder='',description='',disabled=True))\n",
    "        if movementcol[i+1].value == 'Stationary (Single Shot)':\n",
    "            totalenrgycol.append(widgets.Text(value=str(round((t1enpp+t2enpp)*duty,3)),placeholder='',description='',disabled=True))\n",
    "        elif movementcol[i+1].value == 'Raster Grid':\n",
    "            # Multiply the total energy per point times total number of points\n",
    "            totalenrgycol.append(widgets.Text(value=str((round((t1enpp+t2enpp)*duty,3))\n",
    "                                                        *round(float(numxcol[i+1].value)*float(numycol[i+1].value),3)),placeholder='',description='',disabled=True))\n",
    "        elif movementcol[i+1].value == 'Hexagon':\n",
    "            # Multiply the total energy per point times total number of points\n",
    "            totalenrgycol.append(widgets.Text(value=str(round((t1enpp+t2enpp)*duty,3)*7),placeholder='',description='',disabled=True))\n",
    "            \n",
    "    intensitybox = widgets.HBox([widgets.VBox(groupscol),widgets.VBox(t1intcol),widgets.VBox(t2intcol),widgets.VBox(t1enrgycol),\n",
    "                                 widgets.VBox(t2enrgycol),widgets.VBox(totalenrgycol)])\n",
    "elif expparams[2].value == '1.1MHz':\n",
    "    t1intcol = [widgets.Text(value='1.1MHz Intensity (W/cm^2)',placeholder='',description='',disabled=True)]\n",
    "    t1enrgycol = [widgets.Text(value='1.1MHz Energy Per Point (J/cm^2)',placeholder='',description='',disabled=True)]\n",
    "    totalenrgycol = [widgets.Text(value='Total Energy Deposited (J/cm^2)',placeholder='',description='',disabled=True)]\n",
    "    for i in range(int(expparams[0].value)):\n",
    "        t1int = calcintsimple(t1powcol[i+1].value)\n",
    "        t1enpp = t1int*float(dwellcol[i+1].value)\n",
    "        duty = float(dutyoncol[i+1].value)/(float(dutyoncol[i+1].value)+float(dutyoffcol[i+1].value))\n",
    "        t1intcol.append(widgets.Text(value=str(round(t1int*duty,3)),placeholder='',description='',disabled=True))\n",
    "        if movementcol[i+1].value == 'Stationary (Single Shot)':\n",
    "            totalenrgycol.append(widgets.Text(value=str(round(t1enpp*duty,3)),placeholder='',description='',disabled=True))\n",
    "        elif movementcol[i+1].value == 'Raster Grid':\n",
    "            # Multiply the total energy per point times total number of points\n",
    "            totalenrgycol.append(widgets.Text(value=str((round(t1enpp*duty,3))\n",
    "                                                        *round(float(numxcol[i+1].value)*float(numycol[i+1].value),3)),placeholder='',description='',disabled=True))\n",
    "        elif movementcol[i+1].value == 'Hexagon':\n",
    "            # Multiply the total energy per point times total number of points\n",
    "            totalenrgycol.append(widgets.Text(value=str(round(t1enpp*duty,3)*7),placeholder='',description='',disabled=True))\n",
    "            \n",
    "    intensitybox = widgets.HBox(widgets.VBox(groupscol),widgets.VBox(t1intcol),widgets.VBox(stepsizcol),\n",
    "                                 widgets.VBox(numxcol),widgets.VBox(numycol))\n",
    "    \n",
    "elif expparams[2].value == '0.25MHz':\n",
    "    t1intcol = [widgets.Text(value='0.25MHz Intensity (W/cm^2)',placeholder='',description='',disabled=True)]\n",
    "    t1enrgycol = [widgets.Text(value='0.25MHz Energy Per Point (J/cm^2)',placeholder='',description='',disabled=True)]\n",
    "    totalenrgycol = [widgets.Text(value='Total Energy Deposited (J/cm^2)',placeholder='',description='',disabled=True)]\n",
    "    for i in range(int(expparams[0].value)):\n",
    "        t1int = calcintsimple(t1powcol[i+1].value)\n",
    "        t1enpp = t1int*float(dwellcol[i+1].value)\n",
    "        duty = float(dutyoncol[i+1].value)/(float(dutyoncol[i+1].value)+float(dutyoffcol[i+1].value))\n",
    "        t1intcol.append(widgets.Text(value=str(round(t1int*duty,3)),placeholder='',description='',disabled=True))\n",
    "        if movementcol[i+1].value == 'Stationary (Single Shot)':\n",
    "            totalenrgycol.append(widgets.Text(value=str(round(t1enpp*duty,3)),placeholder='',description='',disabled=True))\n",
    "        elif movementcol[i+1].value == 'Raster Grid':\n",
    "            # Multiply the total energy per point times total number of points\n",
    "            totalenrgycol.append(widgets.Text(value=str((round(t1enpp*duty,3))\n",
    "                                                        *round(float(numxcol[i+1].value)*float(numycol[i+1].value),3)),placeholder='',description='',disabled=True))\n",
    "        elif movementcol[i+1].value == 'Hexagon':\n",
    "            # Multiply the total energy per point times total number of points\n",
    "            totalenrgycol.append(widgets.Text(value=str(round(t1enpp*duty,3)*7),placeholder='',description='',disabled=True))\n",
    "            \n",
    "    intensitybox = widgets.HBox(widgets.VBox(groupscol),widgets.VBox(t1intcol),widgets.VBox(stepsizcol),\n",
    "                                 widgets.VBox(numxcol),widgets.VBox(numycol))\n",
    "display(intensitybox)"
   ]
  },
  {
   "cell_type": "markdown",
   "metadata": {},
   "source": [
    "## Experiment Notes\n",
    "During the treatment, put any notes in the following blocks:"
   ]
  },
  {
   "cell_type": "code",
   "execution_count": 22,
   "metadata": {},
   "outputs": [
    {
     "data": {
      "application/vnd.jupyter.widget-view+json": {
       "model_id": "2524c99d440d4ed890cf9c2df1964fb1",
       "version_major": 2,
       "version_minor": 0
      },
      "text/plain": [
       "HBox(children=(VBox(children=(Text(value='Group', disabled=True, placeholder=''), Text(value='1', disabled=Tru…"
      ]
     },
     "metadata": {},
     "output_type": "display_data"
    }
   ],
   "source": [
    "notes = [widgets.Text(value='Experiment notes',placeholder='',description='',disabled=True)]\n",
    "for i in range(int(expparams[0].value)):\n",
    "    notes.append(widgets.Textarea(value='', placeholder='Enter notes for group ' + str(i+1) + '.',description='',disabled=False))\n",
    "    \n",
    "notesbox = widgets.HBox([widgets.VBox(groupscol), widgets.VBox(notes)])\n",
    "display(notesbox)"
   ]
  },
  {
   "cell_type": "code",
   "execution_count": null,
   "metadata": {},
   "outputs": [],
   "source": []
  }
 ],
 "metadata": {
  "kernelspec": {
   "display_name": "Python 3",
   "language": "python",
   "name": "python3"
  },
  "language_info": {
   "codemirror_mode": {
    "name": "ipython",
    "version": 3
   },
   "file_extension": ".py",
   "mimetype": "text/x-python",
   "name": "python",
   "nbconvert_exporter": "python",
   "pygments_lexer": "ipython3",
   "version": "3.6.6"
  }
 },
 "nbformat": 4,
 "nbformat_minor": 2
}
